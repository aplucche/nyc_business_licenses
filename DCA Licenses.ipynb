{
 "cells": [
  {
   "cell_type": "code",
   "execution_count": 48,
   "metadata": {
    "collapsed": false
   },
   "outputs": [
    {
     "data": {
      "text/html": [
       "\n",
       "<link href='https://fonts.googleapis.com/css?family=Roboto' rel='stylesheet' type='text/css'>\n",
       "<style>\n",
       "div.text_cell_render {\n",
       "    font-family: 'Roboto' sans-serif;\n",
       "    text-align: justify;\n",
       "    line-height: 130%;\n",
       "    font-size: 115%;\n",
       "    width:700px;\n",
       "}\n",
       "div.output_area {\n",
       "    font-family: 'Roboto' sans-serif;\n",
       "    line-height: 130%;\n",
       "    font-size: 115%;\n",
       "    margin-left: 100px;\n",
       "    width:750px;\n",
       "}\n",
       ".dataframe * {\n",
       "    border: 1px solid lightgray !important;\n",
       "}\n",
       "div.output_prompt {display: none;}\n",
       "div.prompt {display: none;}\n",
       "\n",
       "</style>\n",
       "<script>\n",
       "code_shown=true; \n",
       "function code_toggle() {\n",
       " if (code_shown){\n",
       " $('div.input').hide();\n",
       " } else {\n",
       " $('div.input').show();\n",
       " }\n",
       " code_shown = !code_shown\n",
       "} \n",
       "$( document ).ready(code_toggle);\n",
       "</script>\n",
       "<form action=\"javascript:code_toggle()\"><input type=\"submit\" value=\"Click here to toggle code\"></form>\n"
      ],
      "text/plain": [
       "<IPython.core.display.HTML object>"
      ]
     },
     "execution_count": 48,
     "metadata": {},
     "output_type": "execute_result"
    }
   ],
   "source": [
    "#Change Notebook Styling and Add Button to Show/Hide Code\n",
    "from IPython.display import HTML\n",
    "HTML(\"\"\"\n",
    "<link href='https://fonts.googleapis.com/css?family=Roboto' rel='stylesheet' type='text/css'>\n",
    "<style>\n",
    "div.text_cell_render {\n",
    "    font-family: 'Roboto' sans-serif;\n",
    "    text-align: justify;\n",
    "    line-height: 130%;\n",
    "    font-size: 115%;\n",
    "    width:700px;\n",
    "}\n",
    "div.output_area {\n",
    "    font-family: 'Roboto' sans-serif;\n",
    "    line-height: 130%;\n",
    "    font-size: 115%;\n",
    "    margin-left: 100px;\n",
    "    width:750px;\n",
    "}\n",
    ".dataframe * {\n",
    "    border: 1px solid lightgray !important;\n",
    "}\n",
    "div.output_prompt {display: none;}\n",
    "div.prompt {display: none;}\n",
    "\"\"\"\n",
    "#div.output_area pre {display: none;}\n",
    "\"\"\"\n",
    "</style>\n",
    "<script>\n",
    "code_shown=true; \n",
    "function code_toggle() {\n",
    " if (code_shown){\n",
    " $('div.input').hide();\n",
    " } else {\n",
    " $('div.input').show();\n",
    " }\n",
    " code_shown = !code_shown\n",
    "} \n",
    "$( document ).ready(code_toggle);\n",
    "</script>\n",
    "<form action=\"javascript:code_toggle()\"><input type=\"submit\" value=\"Click here to toggle code\"></form>\n",
    "\"\"\")"
   ]
  },
  {
   "cell_type": "markdown",
   "metadata": {},
   "source": [
    "Dataset: https://data.cityofnewyork.us/Business/Legally-Operating-Businesses/w7w3-xahh\n",
    "DCA Licenses: http://www1.nyc.gov/site/dca/businesses/licenses-apply.page\n",
    "\n",
    "## A Look at NYC Business Licenses\n",
    "\n",
    "New York requires dozens of types of businesses to register for a license through the Department of Community Affairs (DCA). Licenses cover everything from sidewalk cafes to laundromats to cigarette dealers and the data is made available through [NYC Open data](https://data.cityofnewyork.us/Business/Legally-Operating-Businesses/w7w3-xahh). This notebook explores the data."
   ]
  },
  {
   "cell_type": "code",
   "execution_count": 35,
   "metadata": {
    "collapsed": false
   },
   "outputs": [
    {
     "data": {
      "text/html": [
       "<div>\n",
       "<table border=\"1\" class=\"dataframe\">\n",
       "  <thead>\n",
       "    <tr style=\"text-align: right;\">\n",
       "      <th></th>\n",
       "      <th>DCA License Number</th>\n",
       "      <th>License Type</th>\n",
       "      <th>License Expiration Date</th>\n",
       "      <th>License Category</th>\n",
       "      <th>Business Name</th>\n",
       "      <th>Business Name 2</th>\n",
       "      <th>Address Building</th>\n",
       "      <th>Address Street Name</th>\n",
       "      <th>Secondary Address Street Name</th>\n",
       "      <th>Address City</th>\n",
       "      <th>Address State</th>\n",
       "      <th>Address ZIP</th>\n",
       "      <th>Contact Phone Number</th>\n",
       "      <th>Address Borough</th>\n",
       "      <th>Detail</th>\n",
       "    </tr>\n",
       "  </thead>\n",
       "  <tbody>\n",
       "    <tr>\n",
       "      <th>0</th>\n",
       "      <td>2015059-DCA</td>\n",
       "      <td>Business</td>\n",
       "      <td>07/31/2017</td>\n",
       "      <td>Secondhand Dealer - General</td>\n",
       "      <td>AGUIRRE INC.</td>\n",
       "      <td>NaN</td>\n",
       "      <td>21</td>\n",
       "      <td>WESTCHESTER SQ</td>\n",
       "      <td>NaN</td>\n",
       "      <td>BRONX</td>\n",
       "      <td>NY</td>\n",
       "      <td>10461</td>\n",
       "      <td>3478107977</td>\n",
       "      <td>Bronx</td>\n",
       "      <td>NaN</td>\n",
       "    </tr>\n",
       "    <tr>\n",
       "      <th>1</th>\n",
       "      <td>1219822-DCA</td>\n",
       "      <td>Business</td>\n",
       "      <td>03/15/2017</td>\n",
       "      <td>Amusement Device Portable</td>\n",
       "      <td>LIFETIME VENDING &amp;AMUSEMENTS INC</td>\n",
       "      <td>FIRE HOUSE</td>\n",
       "      <td>4410</td>\n",
       "      <td>AUSTIN BLVD</td>\n",
       "      <td>NaN</td>\n",
       "      <td>ISLAND PARK</td>\n",
       "      <td>NY</td>\n",
       "      <td>11558</td>\n",
       "      <td>5166702294</td>\n",
       "      <td>Outside NYC</td>\n",
       "      <td>Device Name: FIRE HOUSE</td>\n",
       "    </tr>\n",
       "    <tr>\n",
       "      <th>2</th>\n",
       "      <td>1357603-DCA</td>\n",
       "      <td>Individual</td>\n",
       "      <td>02/28/2017</td>\n",
       "      <td>Home Improvement Salesperson</td>\n",
       "      <td>BELFOR, HENRY</td>\n",
       "      <td>NaN</td>\n",
       "      <td>1716</td>\n",
       "      <td>E 37TH ST</td>\n",
       "      <td>NaN</td>\n",
       "      <td>BROOKLYN</td>\n",
       "      <td>NY</td>\n",
       "      <td>11234</td>\n",
       "      <td>9176783915</td>\n",
       "      <td>NaN</td>\n",
       "      <td>NaN</td>\n",
       "    </tr>\n",
       "  </tbody>\n",
       "</table>\n",
       "</div>"
      ],
      "text/plain": [
       "  DCA License Number License Type License Expiration Date  \\\n",
       "0        2015059-DCA     Business              07/31/2017   \n",
       "1        1219822-DCA     Business              03/15/2017   \n",
       "2        1357603-DCA   Individual              02/28/2017   \n",
       "\n",
       "               License Category                     Business Name  \\\n",
       "0   Secondhand Dealer - General                      AGUIRRE INC.   \n",
       "1     Amusement Device Portable  LIFETIME VENDING &AMUSEMENTS INC   \n",
       "2  Home Improvement Salesperson                     BELFOR, HENRY   \n",
       "\n",
       "  Business Name 2 Address Building Address Street Name  \\\n",
       "0             NaN               21      WESTCHESTER SQ   \n",
       "1      FIRE HOUSE             4410         AUSTIN BLVD   \n",
       "2             NaN             1716           E 37TH ST   \n",
       "\n",
       "  Secondary Address Street Name Address City Address State Address ZIP  \\\n",
       "0                           NaN        BRONX            NY       10461   \n",
       "1                           NaN  ISLAND PARK            NY       11558   \n",
       "2                           NaN     BROOKLYN            NY       11234   \n",
       "\n",
       "  Contact Phone Number Address Borough                   Detail  \n",
       "0           3478107977           Bronx                      NaN  \n",
       "1           5166702294     Outside NYC  Device Name: FIRE HOUSE  \n",
       "2           9176783915             NaN                      NaN  "
      ]
     },
     "execution_count": 35,
     "metadata": {},
     "output_type": "execute_result"
    }
   ],
   "source": [
    "import pandas as pd\n",
    "\n",
    "df = pd.read_csv('data/Legally_Operating_Businesses.csv')\n",
    "df.head(3)"
   ]
  },
  {
   "cell_type": "code",
   "execution_count": 108,
   "metadata": {
    "collapsed": false
   },
   "outputs": [],
   "source": [
    "# Extracting Zip Code Map\n",
    "\n",
    "\n",
    "df_zip = df[df['License Type'] == 'Business']\n",
    "export_df = pd.DataFrame(df_zip['Address ZIP'].value_counts())\n",
    "\n",
    "export_df.index.name = 'Zipcode'\n",
    "export_df.columns = ['License Count']\n",
    "#export_df.head()\n",
    "export_df.to_csv('data/licenses_by_zip_all.csv',index=True)\n"
   ]
  },
  {
   "cell_type": "code",
   "execution_count": 36,
   "metadata": {
    "collapsed": false
   },
   "outputs": [],
   "source": [
    "# Count by Zip and Type\n",
    "df_zip = df[df['License Type'] == 'Business']\n",
    "#export_df = pd.DataFrame(df_zip[['Address ZIP', 'License Category']].value_counts())\n",
    "export_df = df_zip[['Address ZIP', 'License Category']]\n",
    "export_df = export_df.groupby(['Address ZIP', 'License Category']).size().reset_index()\n",
    "#export_df.index.name = 'Zipcode'\n",
    "export_df.columns = ['ZIP','License Category','License Count']\n",
    "export_df.head(150)\n",
    "#export_df.groupby(['Address ZIP', 'License Category']).count()\n",
    "export_df.to_csv('data/licenses_by_zip_and_type.csv',index=False)\n"
   ]
  },
  {
   "cell_type": "markdown",
   "metadata": {},
   "source": [
    "### License Overview\n",
    "\n",
    "We exclude licenses for individuals leavning 49983 businesses."
   ]
  },
  {
   "cell_type": "code",
   "execution_count": 64,
   "metadata": {
    "collapsed": false
   },
   "outputs": [
    {
     "name": "stdout",
     "output_type": "stream",
     "text": [
      "License Types Counts:\n"
     ]
    },
    {
     "data": {
      "text/html": [
       "<div>\n",
       "<table border=\"1\" class=\"dataframe\">\n",
       "  <thead>\n",
       "    <tr style=\"text-align: right;\">\n",
       "      <th></th>\n",
       "      <th>License Type</th>\n",
       "    </tr>\n",
       "  </thead>\n",
       "  <tbody>\n",
       "    <tr>\n",
       "      <th>Business</th>\n",
       "      <td>49983</td>\n",
       "    </tr>\n",
       "    <tr>\n",
       "      <th>Individual</th>\n",
       "      <td>27497</td>\n",
       "    </tr>\n",
       "  </tbody>\n",
       "</table>\n",
       "</div>"
      ],
      "text/plain": [
       "            License Type\n",
       "Business           49983\n",
       "Individual         27497"
      ]
     },
     "execution_count": 64,
     "metadata": {},
     "output_type": "execute_result"
    }
   ],
   "source": [
    "print 'License Types Counts:'\n",
    "pd.DataFrame(df['License Type'].value_counts())"
   ]
  },
  {
   "cell_type": "code",
   "execution_count": 65,
   "metadata": {
    "collapsed": false
   },
   "outputs": [
    {
     "name": "stdout",
     "output_type": "stream",
     "text": [
      "Licenses by Borough (Businesses Only):\n"
     ]
    },
    {
     "data": {
      "text/html": [
       "<div>\n",
       "<table border=\"1\" class=\"dataframe\">\n",
       "  <thead>\n",
       "    <tr style=\"text-align: right;\">\n",
       "      <th></th>\n",
       "      <th>licenses</th>\n",
       "      <th>population</th>\n",
       "      <th>Licenses Per 1000 Residents</th>\n",
       "    </tr>\n",
       "  </thead>\n",
       "  <tbody>\n",
       "    <tr>\n",
       "      <th>Brooklyn</th>\n",
       "      <td>12775</td>\n",
       "      <td>2636735.0</td>\n",
       "      <td>4.845007</td>\n",
       "    </tr>\n",
       "    <tr>\n",
       "      <th>Queens</th>\n",
       "      <td>12283</td>\n",
       "      <td>2339150.0</td>\n",
       "      <td>5.251053</td>\n",
       "    </tr>\n",
       "    <tr>\n",
       "      <th>Manhattan</th>\n",
       "      <td>10874</td>\n",
       "      <td>1644518.0</td>\n",
       "      <td>6.612272</td>\n",
       "    </tr>\n",
       "    <tr>\n",
       "      <th>Bronx</th>\n",
       "      <td>6073</td>\n",
       "      <td>1455444.0</td>\n",
       "      <td>4.172610</td>\n",
       "    </tr>\n",
       "    <tr>\n",
       "      <th>Staten Island</th>\n",
       "      <td>2842</td>\n",
       "      <td>474558.0</td>\n",
       "      <td>5.988731</td>\n",
       "    </tr>\n",
       "  </tbody>\n",
       "</table>\n",
       "</div>"
      ],
      "text/plain": [
       "               licenses  population  Licenses Per 1000 Residents\n",
       "Brooklyn          12775   2636735.0                     4.845007\n",
       "Queens            12283   2339150.0                     5.251053\n",
       "Manhattan         10874   1644518.0                     6.612272\n",
       "Bronx              6073   1455444.0                     4.172610\n",
       "Staten Island      2842    474558.0                     5.988731"
      ]
     },
     "execution_count": 65,
     "metadata": {},
     "output_type": "execute_result"
    }
   ],
   "source": [
    "print 'Licenses by Borough (Businesses Only):'\n",
    "df_a = df[df['License Type'] == 'Business']['Address Borough'].fillna('Not Listed')\n",
    "#Population Estimates: https://www1.nyc.gov/site/planning/data-maps/nyc-population/current-future-populations.page\n",
    "populations = pd.Series({\n",
    "        \"Brooklyn\":2636735,\n",
    "        \"Queens\":2339150,\n",
    "        \"Manhattan\":1644518,\n",
    "        \"Bronx\":1455444,\n",
    "        \"Staten Island\":474558\n",
    "    })\n",
    "df_l = df_a.value_counts().to_frame().join(populations.to_frame())\n",
    "df_l = df_l.dropna()\n",
    "df_l.columns = ['licenses','population']\n",
    "df_l['Licenses Per 1000 Residents'] = df_l['licenses'] / (df_l['population'] / 1000)\n",
    "df_l"
   ]
  },
  {
   "cell_type": "markdown",
   "metadata": {},
   "source": [
    "BK Top 3: Home Imp, Cig, Secondhand Dealer\n",
    "Queens Top 3: Home Imp, Cig, Secondhand Dealer\n",
    "Manhat Top 3: Cig, Secondhand Dealer, Home Imp\n",
    "\n",
    "First three in varying order:\n",
    "- Cigarette Retail Dealer\n",
    "- Improvement Contractor\n",
    "- Secondhand Dealer - General\n",
    "\n",
    "#4 by count\n",
    "- Manhattan: Sidewalk Cafe\n",
    "- Bronx: Electronics Store\n",
    "- Brooklyn: Electronics Store\n",
    "- Staten Island: Amusement Device Portable\n",
    "- Queens: Electronics Store\n",
    "\n",
    "\n",
    "[Amusement Device Portable](http://www1.nyc.gov/site/dca/businesses/license-checklist-amusement-device-portable.page) is a license for \"a truck-mounted and/or inflatable amusement device that is designed to be operated on the vehicle that transports it\". Is this a bouncy house license?"
   ]
  },
  {
   "cell_type": "markdown",
   "metadata": {},
   "source": [
    "When comparing licenses by borough the first three most frequent types of license were always 'Cigarette Retail Dealer', 'Home Improvement Contractor', and 'Secondhand Dealer - General' although the order varied.  Fourth place started to vary somewhat and is shown below:"
   ]
  },
  {
   "cell_type": "code",
   "execution_count": 89,
   "metadata": {
    "collapsed": false
   },
   "outputs": [
    {
     "data": {
      "text/html": [
       "<div>\n",
       "<table border=\"1\" class=\"dataframe\">\n",
       "  <thead>\n",
       "    <tr style=\"text-align: right;\">\n",
       "      <th></th>\n",
       "      <th>Fourth Most Common License</th>\n",
       "    </tr>\n",
       "  </thead>\n",
       "  <tbody>\n",
       "    <tr>\n",
       "      <th>Manhattan</th>\n",
       "      <td>Sidewalk Cafe</td>\n",
       "    </tr>\n",
       "    <tr>\n",
       "      <th>Queens</th>\n",
       "      <td>Electronics Store</td>\n",
       "    </tr>\n",
       "    <tr>\n",
       "      <th>Brooklyn</th>\n",
       "      <td>Electronics Store</td>\n",
       "    </tr>\n",
       "    <tr>\n",
       "      <th>Bronx</th>\n",
       "      <td>Electronics Store</td>\n",
       "    </tr>\n",
       "    <tr>\n",
       "      <th>Staten Island</th>\n",
       "      <td>Amusement Device Portable</td>\n",
       "    </tr>\n",
       "  </tbody>\n",
       "</table>\n",
       "</div>"
      ],
      "text/plain": [
       "              Fourth Most Common License\n",
       "Manhattan                  Sidewalk Cafe\n",
       "Queens                 Electronics Store\n",
       "Brooklyn               Electronics Store\n",
       "Bronx                  Electronics Store\n",
       "Staten Island  Amusement Device Portable"
      ]
     },
     "execution_count": 89,
     "metadata": {},
     "output_type": "execute_result"
    }
   ],
   "source": [
    "fourth_place = pd.Series({\n",
    "    'Manhattan': 'Sidewalk Cafe',\n",
    "    'Brooklyn': 'Electronics Store',\n",
    "    'Queens': 'Electronics Store',\n",
    "    'Bronx': 'Electronics Store',\n",
    "    'Staten Island': 'Amusement Device Portable'\n",
    "    }, name='Fourth Most Common License')\n",
    "pd.DataFrame(fourth_place.sort_values(axis=0, ascending=False))"
   ]
  },
  {
   "cell_type": "markdown",
   "metadata": {},
   "source": [
    "Note: sightseeing guides and temporary street fair vendors are excluded from this dataset"
   ]
  },
  {
   "cell_type": "code",
   "execution_count": null,
   "metadata": {
    "collapsed": true
   },
   "outputs": [],
   "source": []
  },
  {
   "cell_type": "code",
   "execution_count": 90,
   "metadata": {
    "collapsed": false
   },
   "outputs": [
    {
     "name": "stdout",
     "output_type": "stream",
     "text": [
      "Licence Type Counts (Businesses Only)\n"
     ]
    },
    {
     "data": {
      "text/html": [
       "<div>\n",
       "<table border=\"1\" class=\"dataframe\">\n",
       "  <thead>\n",
       "    <tr style=\"text-align: right;\">\n",
       "      <th></th>\n",
       "      <th>License Category</th>\n",
       "    </tr>\n",
       "  </thead>\n",
       "  <tbody>\n",
       "    <tr>\n",
       "      <th>Home Improvement Contractor</th>\n",
       "      <td>14278</td>\n",
       "    </tr>\n",
       "    <tr>\n",
       "      <th>Cigarette Retail Dealer</th>\n",
       "      <td>8973</td>\n",
       "    </tr>\n",
       "    <tr>\n",
       "      <th>Secondhand Dealer - General</th>\n",
       "      <td>5092</td>\n",
       "    </tr>\n",
       "    <tr>\n",
       "      <th>Electronics Store</th>\n",
       "      <td>4379</td>\n",
       "    </tr>\n",
       "    <tr>\n",
       "      <th>Laundry</th>\n",
       "      <td>2371</td>\n",
       "    </tr>\n",
       "    <tr>\n",
       "      <th>Stoop Line Stand</th>\n",
       "      <td>2016</td>\n",
       "    </tr>\n",
       "    <tr>\n",
       "      <th>Laundry Jobber</th>\n",
       "      <td>1609</td>\n",
       "    </tr>\n",
       "    <tr>\n",
       "      <th>Electronic &amp; Appliance Service</th>\n",
       "      <td>1599</td>\n",
       "    </tr>\n",
       "    <tr>\n",
       "      <th>Debt Collection Agency</th>\n",
       "      <td>1502</td>\n",
       "    </tr>\n",
       "    <tr>\n",
       "      <th>Sidewalk Cafe</th>\n",
       "      <td>1421</td>\n",
       "    </tr>\n",
       "    <tr>\n",
       "      <th>Garage</th>\n",
       "      <td>1255</td>\n",
       "    </tr>\n",
       "    <tr>\n",
       "      <th>Secondhand Dealer - Auto</th>\n",
       "      <td>763</td>\n",
       "    </tr>\n",
       "    <tr>\n",
       "      <th>Dealer In Products</th>\n",
       "      <td>755</td>\n",
       "    </tr>\n",
       "    <tr>\n",
       "      <th>Amusement Device Portable</th>\n",
       "      <td>585</td>\n",
       "    </tr>\n",
       "    <tr>\n",
       "      <th>Tow Truck Company</th>\n",
       "      <td>524</td>\n",
       "    </tr>\n",
       "    <tr>\n",
       "      <th>Parking Lot</th>\n",
       "      <td>456</td>\n",
       "    </tr>\n",
       "    <tr>\n",
       "      <th>Pawnbroker</th>\n",
       "      <td>346</td>\n",
       "    </tr>\n",
       "    <tr>\n",
       "      <th>Newsstand</th>\n",
       "      <td>311</td>\n",
       "    </tr>\n",
       "    <tr>\n",
       "      <th>Employment Agency</th>\n",
       "      <td>299</td>\n",
       "    </tr>\n",
       "    <tr>\n",
       "      <th>Pedicab Business</th>\n",
       "      <td>280</td>\n",
       "    </tr>\n",
       "    <tr>\n",
       "      <th>Cabaret</th>\n",
       "      <td>137</td>\n",
       "    </tr>\n",
       "    <tr>\n",
       "      <th>Games of Chance</th>\n",
       "      <td>132</td>\n",
       "    </tr>\n",
       "    <tr>\n",
       "      <th>Amusement Device Permanent</th>\n",
       "      <td>121</td>\n",
       "    </tr>\n",
       "    <tr>\n",
       "      <th>Garage and Parking Lot</th>\n",
       "      <td>113</td>\n",
       "    </tr>\n",
       "    <tr>\n",
       "      <th>Process Serving Agency</th>\n",
       "      <td>111</td>\n",
       "    </tr>\n",
       "    <tr>\n",
       "      <th>Horse Drawn Cab Owner</th>\n",
       "      <td>68</td>\n",
       "    </tr>\n",
       "    <tr>\n",
       "      <th>Scrap Metal Processor</th>\n",
       "      <td>67</td>\n",
       "    </tr>\n",
       "    <tr>\n",
       "      <th>Bingo Game Operator</th>\n",
       "      <td>62</td>\n",
       "    </tr>\n",
       "    <tr>\n",
       "      <th>Storage Warehouse</th>\n",
       "      <td>56</td>\n",
       "    </tr>\n",
       "    <tr>\n",
       "      <th>Catering Establishment</th>\n",
       "      <td>55</td>\n",
       "    </tr>\n",
       "    <tr>\n",
       "      <th>Pool or Billiard Room</th>\n",
       "      <td>53</td>\n",
       "    </tr>\n",
       "    <tr>\n",
       "      <th>Tow Truck Exemption</th>\n",
       "      <td>42</td>\n",
       "    </tr>\n",
       "    <tr>\n",
       "      <th>Auction House Premises</th>\n",
       "      <td>32</td>\n",
       "    </tr>\n",
       "    <tr>\n",
       "      <th>Scale Dealer Repairer</th>\n",
       "      <td>31</td>\n",
       "    </tr>\n",
       "    <tr>\n",
       "      <th>Gaming Cafe</th>\n",
       "      <td>31</td>\n",
       "    </tr>\n",
       "    <tr>\n",
       "      <th>Amusement Arcade</th>\n",
       "      <td>20</td>\n",
       "    </tr>\n",
       "    <tr>\n",
       "      <th>Amusement Device Temporary</th>\n",
       "      <td>10</td>\n",
       "    </tr>\n",
       "    <tr>\n",
       "      <th>Sightseeing Bus</th>\n",
       "      <td>8</td>\n",
       "    </tr>\n",
       "    <tr>\n",
       "      <th>Commercial Lessor</th>\n",
       "      <td>7</td>\n",
       "    </tr>\n",
       "    <tr>\n",
       "      <th>Special Sale</th>\n",
       "      <td>4</td>\n",
       "    </tr>\n",
       "    <tr>\n",
       "      <th>Secondhand Dealer - Firearms</th>\n",
       "      <td>4</td>\n",
       "    </tr>\n",
       "    <tr>\n",
       "      <th>Booting Company</th>\n",
       "      <td>3</td>\n",
       "    </tr>\n",
       "    <tr>\n",
       "      <th>General Vendor Distributor</th>\n",
       "      <td>2</td>\n",
       "    </tr>\n",
       "  </tbody>\n",
       "</table>\n",
       "</div>"
      ],
      "text/plain": [
       "                                License Category\n",
       "Home Improvement Contractor                14278\n",
       "Cigarette Retail Dealer                     8973\n",
       "Secondhand Dealer - General                 5092\n",
       "Electronics Store                           4379\n",
       "Laundry                                     2371\n",
       "Stoop Line Stand                            2016\n",
       "Laundry Jobber                              1609\n",
       "Electronic & Appliance Service              1599\n",
       "Debt Collection Agency                      1502\n",
       "Sidewalk Cafe                               1421\n",
       "Garage                                      1255\n",
       "Secondhand Dealer - Auto                     763\n",
       "Dealer In Products                           755\n",
       "Amusement Device Portable                    585\n",
       "Tow Truck Company                            524\n",
       "Parking Lot                                  456\n",
       "Pawnbroker                                   346\n",
       "Newsstand                                    311\n",
       "Employment Agency                            299\n",
       "Pedicab Business                             280\n",
       "Cabaret                                      137\n",
       "Games of Chance                              132\n",
       "Amusement Device Permanent                   121\n",
       "Garage and Parking Lot                       113\n",
       "Process Serving Agency                       111\n",
       "Horse Drawn Cab Owner                         68\n",
       "Scrap Metal Processor                         67\n",
       "Bingo Game Operator                           62\n",
       "Storage Warehouse                             56\n",
       "Catering Establishment                        55\n",
       "Pool or Billiard Room                         53\n",
       "Tow Truck Exemption                           42\n",
       "Auction House Premises                        32\n",
       "Scale Dealer Repairer                         31\n",
       "Gaming Cafe                                   31\n",
       "Amusement Arcade                              20\n",
       "Amusement Device Temporary                    10\n",
       "Sightseeing Bus                                8\n",
       "Commercial Lessor                              7\n",
       "Special Sale                                   4\n",
       "Secondhand Dealer - Firearms                   4\n",
       "Booting Company                                3\n",
       "General Vendor Distributor                     2"
      ]
     },
     "execution_count": 90,
     "metadata": {},
     "output_type": "execute_result"
    }
   ],
   "source": [
    "#df_f = df[df['License Category'] =='Employment Agency']\n",
    "#df_f.head()\n",
    "#len(df_f.index)\n",
    "df_f = df[df['License Type'] == 'Business']['License Category']\n",
    "print 'Licence Type Counts (Businesses Only)'\n",
    "#pd.DataFrame(df_f.value_counts())\n",
    "#pd.DataFrame(df_f[df['Address Borough']=='Brooklyn'].value_counts())\n",
    "pd.DataFrame(df_f.value_counts())"
   ]
  },
  {
   "cell_type": "markdown",
   "metadata": {
    "collapsed": true
   },
   "source": [
    "### Licenses By Zipcode"
   ]
  },
  {
   "cell_type": "code",
   "execution_count": null,
   "metadata": {
    "collapsed": true
   },
   "outputs": [],
   "source": []
  },
  {
   "cell_type": "code",
   "execution_count": 44,
   "metadata": {
    "collapsed": false
   },
   "outputs": [
    {
     "data": {
      "application/javascript": [
       "require.config({\n",
       "  paths: {\n",
       "      cartodb: '//libs.cartocdn.com/cartodb.js/v3/3.15/cartodb.js'\n",
       "  }\n",
       "});\n",
       "element.append(\"<div id='container'><div id='map'></div></div>\");"
      ],
      "text/plain": [
       "<IPython.core.display.Javascript object>"
      ]
     },
     "metadata": {},
     "output_type": "display_data"
    }
   ],
   "source": [
    "%%javascript\n",
    "require.config({\n",
    "  paths: {\n",
    "      cartodb: '//libs.cartocdn.com/cartodb.js/v3/3.15/cartodb.js'\n",
    "  }\n",
    "});\n",
    "element.append(\"<div id='container'><div id='map'></div></div>\");"
   ]
  },
  {
   "cell_type": "code",
   "execution_count": 47,
   "metadata": {
    "collapsed": false
   },
   "outputs": [
    {
     "data": {
      "application/javascript": [
       "\n",
       "            options = {}\n",
       "            window.onload = function() {\n",
       "              cartodb.createVis('map', 'http://aplucche.carto.com/api/v2/viz/ba1b648a-7c45-11e6-acb6-0e98b61680bf/viz.json')\n",
       "                .done(function(vis, layers) {\n",
       "                // Set max zoom\n",
       "                vis.map.set({\n",
       "                  minZoom: 10,\n",
       "                  maxZoom: 13\n",
       "                });\n",
       "              })\n",
       "              .error(function(err) {\n",
       "                console.log(err);\n",
       "              });\n",
       "            }\n",
       "           "
      ],
      "text/plain": [
       "<IPython.core.display.Javascript object>"
      ]
     },
     "execution_count": 47,
     "metadata": {},
     "output_type": "execute_result"
    }
   ],
   "source": [
    "from IPython.display import Javascript\n",
    "#runs arbitrary javascript, client-side\n",
    "Javascript(\"\"\"\n",
    "            options = {}\n",
    "            window.onload = function() {\n",
    "              cartodb.createVis('map', 'http://aplucche.carto.com/api/v2/viz/ba1b648a-7c45-11e6-acb6-0e98b61680bf/viz.json')\n",
    "                .done(function(vis, layers) {\n",
    "                // Set max zoom\n",
    "                vis.map.set({\n",
    "                  minZoom: 10,\n",
    "                  maxZoom: 13\n",
    "                });\n",
    "              })\n",
    "              .error(function(err) {\n",
    "                console.log(err);\n",
    "              });\n",
    "            }\n",
    "           \"\"\")"
   ]
  },
  {
   "cell_type": "code",
   "execution_count": 49,
   "metadata": {
    "collapsed": false
   },
   "outputs": [
    {
     "data": {
      "text/html": [
       "\n",
       "<script src=\"http://libs.cartocdn.com/cartodb.js/v3/3.15/cartodb.js\"></script>\n",
       "<div id='container'>\n",
       "  <div id='map'></div>\n",
       "</div>\n",
       "<script>\n",
       "options = {}\n",
       "window.onload = function() {\n",
       "  cartodb.createVis('map', 'http://aplucche.carto.com/api/v2/viz/ba1b648a-7c45-11e6-acb6-0e98b61680bf/viz.json')\n",
       "    .done(function(vis, layers) {\n",
       "    // Set max zoom\n",
       "    vis.map.set({\n",
       "      minZoom: 10,\n",
       "      maxZoom: 13\n",
       "    });\n",
       "  })\n",
       "  .error(function(err) {\n",
       "    console.log(err);\n",
       "  });\n",
       "}\n",
       "</script>\n"
      ],
      "text/plain": [
       "<IPython.core.display.HTML object>"
      ]
     },
     "execution_count": 49,
     "metadata": {},
     "output_type": "execute_result"
    }
   ],
   "source": [
    "HTML(\"\"\"\n",
    "<script src=\"http://libs.cartocdn.com/cartodb.js/v3/3.15/cartodb.js\"></script>\n",
    "<div id='container'>\n",
    "  <div id='map'></div>\n",
    "</div>\n",
    "<script>\n",
    "options = {}\n",
    "window.onload = function() {\n",
    "  cartodb.createVis('map', 'http://aplucche.carto.com/api/v2/viz/ba1b648a-7c45-11e6-acb6-0e98b61680bf/viz.json')\n",
    "    .done(function(vis, layers) {\n",
    "    // Set max zoom\n",
    "    vis.map.set({\n",
    "      minZoom: 10,\n",
    "      maxZoom: 13\n",
    "    });\n",
    "  })\n",
    "  .error(function(err) {\n",
    "    console.log(err);\n",
    "  });\n",
    "}\n",
    "</script>\n",
    "\"\"\")"
   ]
  },
  {
   "cell_type": "markdown",
   "metadata": {},
   "source": [
    "### Map of Counts by Zip - All Licence Types"
   ]
  },
  {
   "cell_type": "code",
   "execution_count": 50,
   "metadata": {
    "collapsed": false
   },
   "outputs": [
    {
     "data": {
      "text/html": [
       "\n",
       "<iframe width=\"100%\" height=\"520\" frameborder=\"0\" src=\"https://aplucche.carto.com/viz/ba1b648a-7c45-11e6-acb6-0e98b61680bf/embed_map\" allowfullscreen webkitallowfullscreen mozallowfullscreen oallowfullscreen msallowfullscreen></iframe>\n"
      ],
      "text/plain": [
       "<IPython.core.display.HTML object>"
      ]
     },
     "execution_count": 50,
     "metadata": {},
     "output_type": "execute_result"
    }
   ],
   "source": [
    "from IPython.display import HTML\n",
    "HTML(\"\"\"\n",
    "<iframe width=\"100%\" height=\"520\" frameborder=\"0\" src=\"https://aplucche.carto.com/viz/ba1b648a-7c45-11e6-acb6-0e98b61680bf/embed_map\" allowfullscreen webkitallowfullscreen mozallowfullscreen oallowfullscreen msallowfullscreen></iframe>\n",
    "\"\"\")"
   ]
  },
  {
   "cell_type": "markdown",
   "metadata": {},
   "source": [
    "### Map of Counts by Zip - Sidewalk Cafes"
   ]
  },
  {
   "cell_type": "code",
   "execution_count": 51,
   "metadata": {
    "collapsed": false
   },
   "outputs": [
    {
     "data": {
      "text/html": [
       "\n",
       "<iframe width=\"100%\" height=\"520\" frameborder=\"0\" src=\"https://aplucche.carto.com/viz/e2ed7bec-808b-11e6-aa89-0e3ff518bd15/embed_map\" allowfullscreen webkitallowfullscreen mozallowfullscreen oallowfullscreen msallowfullscreen></iframe>\n"
      ],
      "text/plain": [
       "<IPython.core.display.HTML object>"
      ]
     },
     "execution_count": 51,
     "metadata": {},
     "output_type": "execute_result"
    }
   ],
   "source": [
    "from IPython.display import HTML\n",
    "HTML(\"\"\"\n",
    "<iframe width=\"100%\" height=\"520\" frameborder=\"0\" src=\"https://aplucche.carto.com/viz/e2ed7bec-808b-11e6-aa89-0e3ff518bd15/embed_map\" allowfullscreen webkitallowfullscreen mozallowfullscreen oallowfullscreen msallowfullscreen></iframe>\n",
    "\"\"\")"
   ]
  }
 ],
 "metadata": {
  "kernelspec": {
   "display_name": "Python 2",
   "language": "python",
   "name": "python2"
  },
  "language_info": {
   "codemirror_mode": {
    "name": "ipython",
    "version": 2
   },
   "file_extension": ".py",
   "mimetype": "text/x-python",
   "name": "python",
   "nbconvert_exporter": "python",
   "pygments_lexer": "ipython2",
   "version": "2.7.11"
  }
 },
 "nbformat": 4,
 "nbformat_minor": 0
}
